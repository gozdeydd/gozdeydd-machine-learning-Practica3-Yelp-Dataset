{
 "cells": [
  {
   "cell_type": "markdown",
   "id": "73646778",
   "metadata": {},
   "source": [
    "\n",
    "# CUNEF MUCD 2022/2023\n",
    "# Machine Learning"
   ]
  },
  {
   "cell_type": "markdown",
   "id": "6080622e",
   "metadata": {},
   "source": [
    "## Analisis of Yelp Dataset"
   ]
  },
  {
   "cell_type": "markdown",
   "id": "2dedf242",
   "metadata": {},
   "source": [
    "\n",
    "### Authors:\n",
    "\n",
    "    Gozde Yazganoglu\n",
    "    Irma Sanchez"
   ]
  },
  {
   "cell_type": "markdown",
   "id": "66226e55",
   "metadata": {},
   "source": [
    "### 2.Analisis of Chekin dataset"
   ]
  },
  {
   "cell_type": "markdown",
   "id": "bca15d2d",
   "metadata": {},
   "source": [
    "Our aim in this project is to analyze a big dataset consisting of reviews, comments, localization and have business ideas in general. "
   ]
  },
  {
   "cell_type": "markdown",
   "id": "909a01f5",
   "metadata": {},
   "source": [
    "First we are importing dataset of yelp_academic_dataset_business.json file. using below code, we can extract the file. Or tar file can be opened by using 7zip. \n",
    "\n",
    "    -> yelp_academic_dataset_business.json \n",
    "    -> yelp_academic_dataset_checkin.json \n",
    "    -> yelp_academic_dataset_review.json \n",
    "    -> yelp_academic_dataset_tip.json \n",
    "    -> yelp_academic_dataset_user.json\n",
    "    \n",
    "We are going to use extracted files for this notebook. we are going to skip below cell. "
   ]
  },
  {
   "cell_type": "code",
   "execution_count": 2,
   "id": "943ee8e8",
   "metadata": {},
   "outputs": [],
   "source": [
    "import pandas as pd\n",
    "import json"
   ]
  },
  {
   "cell_type": "code",
   "execution_count": 8,
   "id": "8baa6f84",
   "metadata": {},
   "outputs": [
    {
     "data": {
      "text/html": [
       "<div>\n",
       "<style scoped>\n",
       "    .dataframe tbody tr th:only-of-type {\n",
       "        vertical-align: middle;\n",
       "    }\n",
       "\n",
       "    .dataframe tbody tr th {\n",
       "        vertical-align: top;\n",
       "    }\n",
       "\n",
       "    .dataframe thead th {\n",
       "        text-align: right;\n",
       "    }\n",
       "</style>\n",
       "<table border=\"1\" class=\"dataframe\">\n",
       "  <thead>\n",
       "    <tr style=\"text-align: right;\">\n",
       "      <th></th>\n",
       "      <th>business_id</th>\n",
       "      <th>date</th>\n",
       "    </tr>\n",
       "  </thead>\n",
       "  <tbody>\n",
       "    <tr>\n",
       "      <th>0</th>\n",
       "      <td>---kPU91CF4Lq2-WlRu9Lw</td>\n",
       "      <td>2020-03-13 21:10:56, 2020-06-02 22:18:06, 2020...</td>\n",
       "    </tr>\n",
       "    <tr>\n",
       "      <th>1</th>\n",
       "      <td>--0iUa4sNDFiZFrAdIWhZQ</td>\n",
       "      <td>2010-09-13 21:43:09, 2011-05-04 23:08:15, 2011...</td>\n",
       "    </tr>\n",
       "    <tr>\n",
       "      <th>2</th>\n",
       "      <td>--30_8IhuyMHbSOcNWd6DQ</td>\n",
       "      <td>2013-06-14 23:29:17, 2014-08-13 23:20:22</td>\n",
       "    </tr>\n",
       "    <tr>\n",
       "      <th>3</th>\n",
       "      <td>--7PUidqRWpRSpXebiyxTg</td>\n",
       "      <td>2011-02-15 17:12:00, 2011-07-28 02:46:10, 2012...</td>\n",
       "    </tr>\n",
       "    <tr>\n",
       "      <th>4</th>\n",
       "      <td>--7jw19RH9JKXgFohspgQw</td>\n",
       "      <td>2014-04-21 20:42:11, 2014-04-28 21:04:46, 2014...</td>\n",
       "    </tr>\n",
       "    <tr>\n",
       "      <th>...</th>\n",
       "      <td>...</td>\n",
       "      <td>...</td>\n",
       "    </tr>\n",
       "    <tr>\n",
       "      <th>131925</th>\n",
       "      <td>zznJox6-nmXlGYNWgTDwQQ</td>\n",
       "      <td>2013-03-23 16:22:47, 2013-04-07 02:03:12, 2013...</td>\n",
       "    </tr>\n",
       "    <tr>\n",
       "      <th>131926</th>\n",
       "      <td>zznZqH9CiAznbkV6fXyHWA</td>\n",
       "      <td>2021-06-12 01:16:12</td>\n",
       "    </tr>\n",
       "    <tr>\n",
       "      <th>131927</th>\n",
       "      <td>zzu6_r3DxBJuXcjnOYVdTw</td>\n",
       "      <td>2011-05-24 01:35:13, 2012-01-01 23:44:33, 2012...</td>\n",
       "    </tr>\n",
       "    <tr>\n",
       "      <th>131928</th>\n",
       "      <td>zzw66H6hVjXQEt0Js3Mo4A</td>\n",
       "      <td>2016-12-03 23:33:26, 2018-12-02 19:08:45</td>\n",
       "    </tr>\n",
       "    <tr>\n",
       "      <th>131929</th>\n",
       "      <td>zzyx5x0Z7xXWWvWnZFuxlQ</td>\n",
       "      <td>2015-01-06 17:51:53</td>\n",
       "    </tr>\n",
       "  </tbody>\n",
       "</table>\n",
       "<p>131930 rows × 2 columns</p>\n",
       "</div>"
      ],
      "text/plain": [
       "                   business_id  \\\n",
       "0       ---kPU91CF4Lq2-WlRu9Lw   \n",
       "1       --0iUa4sNDFiZFrAdIWhZQ   \n",
       "2       --30_8IhuyMHbSOcNWd6DQ   \n",
       "3       --7PUidqRWpRSpXebiyxTg   \n",
       "4       --7jw19RH9JKXgFohspgQw   \n",
       "...                        ...   \n",
       "131925  zznJox6-nmXlGYNWgTDwQQ   \n",
       "131926  zznZqH9CiAznbkV6fXyHWA   \n",
       "131927  zzu6_r3DxBJuXcjnOYVdTw   \n",
       "131928  zzw66H6hVjXQEt0Js3Mo4A   \n",
       "131929  zzyx5x0Z7xXWWvWnZFuxlQ   \n",
       "\n",
       "                                                     date  \n",
       "0       2020-03-13 21:10:56, 2020-06-02 22:18:06, 2020...  \n",
       "1       2010-09-13 21:43:09, 2011-05-04 23:08:15, 2011...  \n",
       "2                2013-06-14 23:29:17, 2014-08-13 23:20:22  \n",
       "3       2011-02-15 17:12:00, 2011-07-28 02:46:10, 2012...  \n",
       "4       2014-04-21 20:42:11, 2014-04-28 21:04:46, 2014...  \n",
       "...                                                   ...  \n",
       "131925  2013-03-23 16:22:47, 2013-04-07 02:03:12, 2013...  \n",
       "131926                                2021-06-12 01:16:12  \n",
       "131927  2011-05-24 01:35:13, 2012-01-01 23:44:33, 2012...  \n",
       "131928           2016-12-03 23:33:26, 2018-12-02 19:08:45  \n",
       "131929                                2015-01-06 17:51:53  \n",
       "\n",
       "[131930 rows x 2 columns]"
      ]
     },
     "execution_count": 8,
     "metadata": {},
     "output_type": "execute_result"
    }
   ],
   "source": [
    "df_checkin = pd.read_json('../data/raw/yelp_academic_dataset_checkin.json', lines=True)\n",
    "df_checkin"
   ]
  },
  {
   "cell_type": "markdown",
   "id": "09bbae82",
   "metadata": {},
   "source": [
    "In this dataframe we are interested in number of the checkin. In a first view, it can be seen that every single checkin is divided with comma after the first one . Therefore, checkin number is 1 + number of the commas.\n",
    "\n",
    "Checkin is a tool of Yelp that is used for creating a relationship analisis with customers and potential influencers. 'Elite' users votes are matter than normal users. Revievers and businesses benefit from this relationship. "
   ]
  },
  {
   "cell_type": "code",
   "execution_count": 10,
   "id": "dad323c8",
   "metadata": {},
   "outputs": [
    {
     "data": {
      "text/html": [
       "<div>\n",
       "<style scoped>\n",
       "    .dataframe tbody tr th:only-of-type {\n",
       "        vertical-align: middle;\n",
       "    }\n",
       "\n",
       "    .dataframe tbody tr th {\n",
       "        vertical-align: top;\n",
       "    }\n",
       "\n",
       "    .dataframe thead th {\n",
       "        text-align: right;\n",
       "    }\n",
       "</style>\n",
       "<table border=\"1\" class=\"dataframe\">\n",
       "  <thead>\n",
       "    <tr style=\"text-align: right;\">\n",
       "      <th></th>\n",
       "      <th>business_id</th>\n",
       "      <th>date</th>\n",
       "      <th>date_count</th>\n",
       "    </tr>\n",
       "  </thead>\n",
       "  <tbody>\n",
       "    <tr>\n",
       "      <th>0</th>\n",
       "      <td>---kPU91CF4Lq2-WlRu9Lw</td>\n",
       "      <td>2020-03-13 21:10:56, 2020-06-02 22:18:06, 2020...</td>\n",
       "      <td>11</td>\n",
       "    </tr>\n",
       "    <tr>\n",
       "      <th>1</th>\n",
       "      <td>--0iUa4sNDFiZFrAdIWhZQ</td>\n",
       "      <td>2010-09-13 21:43:09, 2011-05-04 23:08:15, 2011...</td>\n",
       "      <td>10</td>\n",
       "    </tr>\n",
       "    <tr>\n",
       "      <th>2</th>\n",
       "      <td>--30_8IhuyMHbSOcNWd6DQ</td>\n",
       "      <td>2013-06-14 23:29:17, 2014-08-13 23:20:22</td>\n",
       "      <td>2</td>\n",
       "    </tr>\n",
       "    <tr>\n",
       "      <th>3</th>\n",
       "      <td>--7PUidqRWpRSpXebiyxTg</td>\n",
       "      <td>2011-02-15 17:12:00, 2011-07-28 02:46:10, 2012...</td>\n",
       "      <td>10</td>\n",
       "    </tr>\n",
       "    <tr>\n",
       "      <th>4</th>\n",
       "      <td>--7jw19RH9JKXgFohspgQw</td>\n",
       "      <td>2014-04-21 20:42:11, 2014-04-28 21:04:46, 2014...</td>\n",
       "      <td>26</td>\n",
       "    </tr>\n",
       "    <tr>\n",
       "      <th>...</th>\n",
       "      <td>...</td>\n",
       "      <td>...</td>\n",
       "      <td>...</td>\n",
       "    </tr>\n",
       "    <tr>\n",
       "      <th>131925</th>\n",
       "      <td>zznJox6-nmXlGYNWgTDwQQ</td>\n",
       "      <td>2013-03-23 16:22:47, 2013-04-07 02:03:12, 2013...</td>\n",
       "      <td>67</td>\n",
       "    </tr>\n",
       "    <tr>\n",
       "      <th>131926</th>\n",
       "      <td>zznZqH9CiAznbkV6fXyHWA</td>\n",
       "      <td>2021-06-12 01:16:12</td>\n",
       "      <td>1</td>\n",
       "    </tr>\n",
       "    <tr>\n",
       "      <th>131927</th>\n",
       "      <td>zzu6_r3DxBJuXcjnOYVdTw</td>\n",
       "      <td>2011-05-24 01:35:13, 2012-01-01 23:44:33, 2012...</td>\n",
       "      <td>23</td>\n",
       "    </tr>\n",
       "    <tr>\n",
       "      <th>131928</th>\n",
       "      <td>zzw66H6hVjXQEt0Js3Mo4A</td>\n",
       "      <td>2016-12-03 23:33:26, 2018-12-02 19:08:45</td>\n",
       "      <td>2</td>\n",
       "    </tr>\n",
       "    <tr>\n",
       "      <th>131929</th>\n",
       "      <td>zzyx5x0Z7xXWWvWnZFuxlQ</td>\n",
       "      <td>2015-01-06 17:51:53</td>\n",
       "      <td>1</td>\n",
       "    </tr>\n",
       "  </tbody>\n",
       "</table>\n",
       "<p>131930 rows × 3 columns</p>\n",
       "</div>"
      ],
      "text/plain": [
       "                   business_id  \\\n",
       "0       ---kPU91CF4Lq2-WlRu9Lw   \n",
       "1       --0iUa4sNDFiZFrAdIWhZQ   \n",
       "2       --30_8IhuyMHbSOcNWd6DQ   \n",
       "3       --7PUidqRWpRSpXebiyxTg   \n",
       "4       --7jw19RH9JKXgFohspgQw   \n",
       "...                        ...   \n",
       "131925  zznJox6-nmXlGYNWgTDwQQ   \n",
       "131926  zznZqH9CiAznbkV6fXyHWA   \n",
       "131927  zzu6_r3DxBJuXcjnOYVdTw   \n",
       "131928  zzw66H6hVjXQEt0Js3Mo4A   \n",
       "131929  zzyx5x0Z7xXWWvWnZFuxlQ   \n",
       "\n",
       "                                                     date  date_count  \n",
       "0       2020-03-13 21:10:56, 2020-06-02 22:18:06, 2020...          11  \n",
       "1       2010-09-13 21:43:09, 2011-05-04 23:08:15, 2011...          10  \n",
       "2                2013-06-14 23:29:17, 2014-08-13 23:20:22           2  \n",
       "3       2011-02-15 17:12:00, 2011-07-28 02:46:10, 2012...          10  \n",
       "4       2014-04-21 20:42:11, 2014-04-28 21:04:46, 2014...          26  \n",
       "...                                                   ...         ...  \n",
       "131925  2013-03-23 16:22:47, 2013-04-07 02:03:12, 2013...          67  \n",
       "131926                                2021-06-12 01:16:12           1  \n",
       "131927  2011-05-24 01:35:13, 2012-01-01 23:44:33, 2012...          23  \n",
       "131928           2016-12-03 23:33:26, 2018-12-02 19:08:45           2  \n",
       "131929                                2015-01-06 17:51:53           1  \n",
       "\n",
       "[131930 rows x 3 columns]"
      ]
     },
     "execution_count": 10,
     "metadata": {},
     "output_type": "execute_result"
    }
   ],
   "source": [
    "df_checkin['date_count'] = df_checkin['date'].apply(lambda x: x.count(',')+1)\n",
    "df_checkin"
   ]
  },
  {
   "cell_type": "markdown",
   "id": "718f3e7a",
   "metadata": {},
   "source": [
    "This data might be useful by joins with other datasets."
   ]
  },
  {
   "cell_type": "code",
   "execution_count": 11,
   "id": "70c1dcba",
   "metadata": {},
   "outputs": [],
   "source": [
    "df_checkin.to_parquet( '../data/processed/yelp_academic_dataset_checkin.parquet')"
   ]
  }
 ],
 "metadata": {
  "kernelspec": {
   "display_name": "practica_yelp",
   "language": "python",
   "name": "practica_yelp"
  },
  "language_info": {
   "codemirror_mode": {
    "name": "ipython",
    "version": 3
   },
   "file_extension": ".py",
   "mimetype": "text/x-python",
   "name": "python",
   "nbconvert_exporter": "python",
   "pygments_lexer": "ipython3",
   "version": "3.9.15"
  }
 },
 "nbformat": 4,
 "nbformat_minor": 5
}
