{
 "cells": [
  {
   "cell_type": "markdown",
   "id": "c27a46f3",
   "metadata": {},
   "source": [
    "\n",
    "# CUNEF MUCD 2022/2023\n",
    "# Machine Learning"
   ]
  },
  {
   "cell_type": "markdown",
   "id": "0cdb84bc",
   "metadata": {},
   "source": [
    "## Analisis of Yelp Dataset"
   ]
  },
  {
   "cell_type": "markdown",
   "id": "cde73751",
   "metadata": {},
   "source": [
    "\n",
    "### Authors:\n",
    "\n",
    "    Gozde Yazganoglu\n",
    "    Irma Sanchez"
   ]
  },
  {
   "cell_type": "markdown",
   "id": "0c1169e7",
   "metadata": {},
   "source": [
    "### 3 .Analisis of Review dataset"
   ]
  },
  {
   "cell_type": "code",
   "execution_count": 1,
   "id": "d5c17fe7",
   "metadata": {},
   "outputs": [],
   "source": [
    "import pandas as pd\n",
    "import json\n",
    "import numpy as np"
   ]
  },
  {
   "cell_type": "code",
   "execution_count": null,
   "id": "3201bd3f",
   "metadata": {},
   "outputs": [
    {
     "name": "stderr",
     "output_type": "stream",
     "text": [
      "IOPub data rate exceeded.\n",
      "The notebook server will temporarily stop sending output\n",
      "to the client in order to avoid crashing it.\n",
      "To change this limit, set the config variable\n",
      "`--NotebookApp.iopub_data_rate_limit`.\n",
      "\n",
      "Current values:\n",
      "NotebookApp.iopub_data_rate_limit=1000000.0 (bytes/sec)\n",
      "NotebookApp.rate_limit_window=3.0 (secs)\n",
      "\n"
     ]
    }
   ],
   "source": [
    "\n",
    "# Open the file and read it line by line\n",
    "with open('../data/raw/yelp_academic_dataset_review.json', 'r') as f:\n",
    "    for line in f:\n",
    "        # Load the line as JSON\n",
    "        data = json.loads(line)\n",
    "        # Process the data (e.g., print it, save it to a database, etc.)\n",
    "        print(data)\n"
   ]
  },
  {
   "cell_type": "code",
   "execution_count": null,
   "id": "693e8b12",
   "metadata": {},
   "outputs": [],
   "source": [
    "# Empty List to store each chunk\n",
    "chunks = []\n",
    "# Specify dtypes\n",
    "r_dtypes = {\"stars\": np.float16,\n",
    "            \"useful\": np.int32,\n",
    "            \"funny\": np. int32,\n",
    "            \"cool\": np.int32}\n",
    "# store the son chunks\n",
    "reader = pd.read_json(\"C:/Users/irmas/Desktop/MASTER DS/PRACTICA3 ML/data/yelp_academic_dataset_review.json\",\n",
    "                    lines=True,\n",
    "                    chunksize=1000, \n",
    "                    dtype=r_dtypes, \n",
    "                    orient=\"records\")\n",
    "\n",
    "# For loop to append each chunk into the chunks list\n",
    "for chunk in reader:\n",
    "            reduced_chunk = chunk.drop(columns=['review_id', 'user_id'])\\\n",
    "                                    .query(\"`date` >= '2006-12-31'\")\n",
    "            chunks.append (reduced_chunk)\n",
    "# concatenate each chunk into a single dataframe\n",
    "reviews = pd.concat (chunks, ignore_index=True)"
   ]
  },
  {
   "cell_type": "code",
   "execution_count": null,
   "id": "1fdb16b0",
   "metadata": {},
   "outputs": [],
   "source": [
    "print ('Size of reviews DataFrame and details:',reviews.shape)\n",
    "reviews.head(5)"
   ]
  },
  {
   "cell_type": "code",
   "execution_count": null,
   "id": "164d5ef6",
   "metadata": {},
   "outputs": [],
   "source": []
  }
 ],
 "metadata": {
  "kernelspec": {
   "display_name": "practica_yelp",
   "language": "python",
   "name": "practica_yelp"
  },
  "language_info": {
   "codemirror_mode": {
    "name": "ipython",
    "version": 3
   },
   "file_extension": ".py",
   "mimetype": "text/x-python",
   "name": "python",
   "nbconvert_exporter": "python",
   "pygments_lexer": "ipython3",
   "version": "3.9.15"
  }
 },
 "nbformat": 4,
 "nbformat_minor": 5
}
