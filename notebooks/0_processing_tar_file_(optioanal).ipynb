{
 "cells": [
  {
   "cell_type": "markdown",
   "id": "0f072a68",
   "metadata": {},
   "source": [
    "\n",
    "# CUNEF MUCD 2022/2023\n",
    "# Machine Learning"
   ]
  },
  {
   "cell_type": "markdown",
   "id": "8150a8a4",
   "metadata": {},
   "source": [
    "## Analisis of Yelp Dataset"
   ]
  },
  {
   "cell_type": "markdown",
   "id": "51d11a4d",
   "metadata": {},
   "source": [
    "by Gozde Yazganoglu\n",
    "\n"
   ]
  },
  {
   "cell_type": "markdown",
   "id": "f6df5c0e",
   "metadata": {},
   "source": [
    "### Opening Tar file."
   ]
  },
  {
   "cell_type": "markdown",
   "id": "0324f01c",
   "metadata": {},
   "source": [
    "Our aim in this project is to analyze a big dataset consisting of reviews, comments, localization and have business ideas in general. \n",
    "\n",
    "Below codes are optional to process tar file. Recomendation is to open it with 7zip or just to extract in Linux and skip below steps. But in case it is necessary, the steps to follow is shared. After opening json files, they are processed in other notebook."
   ]
  },
  {
   "cell_type": "code",
   "execution_count": 3,
   "id": "4a8fd211",
   "metadata": {},
   "outputs": [],
   "source": [
    "import tarfile\n",
    "\n",
    "path = '../data/raw/yelp_dataset.tar'\n",
    "\n",
    "opening file\n",
    "\n",
    "file = tarfile.open(path)\n",
    "\n",
    "#extracting content\n",
    "file.extractall()\n",
    "file.close()"
   ]
  }
 ],
 "metadata": {
  "kernelspec": {
   "display_name": "practica_yelp",
   "language": "python",
   "name": "practica_yelp"
  },
  "language_info": {
   "codemirror_mode": {
    "name": "ipython",
    "version": 3
   },
   "file_extension": ".py",
   "mimetype": "text/x-python",
   "name": "python",
   "nbconvert_exporter": "python",
   "pygments_lexer": "ipython3",
   "version": "3.9.15"
  }
 },
 "nbformat": 4,
 "nbformat_minor": 5
}
